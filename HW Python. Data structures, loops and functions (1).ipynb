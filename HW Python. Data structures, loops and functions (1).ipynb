{
 "cells": [
  {
   "cell_type": "markdown",
   "id": "69f335e6",
   "metadata": {},
   "source": [
    "1.Створіть множину (set) з наведеного спиcку та виведіть результат на екран. Чим відрізняється множина від списку?"
   ]
  },
  {
   "cell_type": "code",
   "execution_count": 1,
   "id": "aaeecf7e",
   "metadata": {
    "ExecuteTime": {
     "end_time": "2023-02-16T17:21:34.172161Z",
     "start_time": "2023-02-16T17:21:34.150021Z"
    }
   },
   "outputs": [],
   "source": [
    "input_list =  ['boat', 'bus', 'plane', 'train', 'boat', 'autobus', 'bus']"
   ]
  },
  {
   "cell_type": "code",
   "execution_count": 2,
   "id": "61d218e2",
   "metadata": {},
   "outputs": [
    {
     "name": "stdout",
     "output_type": "stream",
     "text": [
      "{'boat', 'plane', 'bus', 'train', 'autobus'}\n"
     ]
    }
   ],
   "source": [
    "print(set(input_list))"
   ]
  },
  {
   "cell_type": "markdown",
   "id": "d2dd9987",
   "metadata": {},
   "source": [
    "Множина містить невпорядковані унікальні елементи. Список - це спорядкований набір будь-яких елементів."
   ]
  },
  {
   "cell_type": "markdown",
   "id": "5c7babdc",
   "metadata": {},
   "source": [
    "2.Виведіть окремо ключі та окремо значення двома окремими списками наступного словника:"
   ]
  },
  {
   "cell_type": "code",
   "execution_count": 1,
   "id": "a00df81d",
   "metadata": {
    "ExecuteTime": {
     "end_time": "2023-02-16T17:32:23.162298Z",
     "start_time": "2023-02-16T17:32:23.152250Z"
    }
   },
   "outputs": [],
   "source": [
    "light_signals = {'green': 'go', 'yellow': 'get ready', 'red': 'stop'}"
   ]
  },
  {
   "cell_type": "code",
   "execution_count": 3,
   "id": "dc2cc322",
   "metadata": {},
   "outputs": [
    {
     "name": "stdout",
     "output_type": "stream",
     "text": [
      "dict_keys(['green', 'yellow', 'red']) dict_values(['go', 'get ready', 'stop'])\n"
     ]
    }
   ],
   "source": [
    "print(light_signals.keys(), light_signals.values())"
   ]
  },
  {
   "cell_type": "markdown",
   "id": "0883eb80",
   "metadata": {
    "ExecuteTime": {
     "end_time": "2023-02-16T16:25:21.907981Z",
     "start_time": "2023-02-16T16:25:21.902740Z"
    }
   },
   "source": [
    "3.Напишіть фрагмент коду, що формує список всіх чисел між 1200 і 2700 (обидва включаючи), які деляться на 7 АБО на 5 без остачі. Виведіть результуючий список на екран."
   ]
  },
  {
   "cell_type": "code",
   "execution_count": 13,
   "id": "e4587789",
   "metadata": {},
   "outputs": [
    {
     "name": "stdout",
     "output_type": "stream",
     "text": [
      "1225\n",
      "1260\n",
      "1295\n",
      "1330\n",
      "1365\n",
      "1400\n",
      "1435\n",
      "1470\n",
      "1505\n",
      "1540\n",
      "1575\n",
      "1610\n",
      "1645\n",
      "1680\n",
      "1715\n",
      "1750\n",
      "1785\n",
      "1820\n",
      "1855\n",
      "1890\n",
      "1925\n",
      "1960\n",
      "1995\n",
      "2030\n",
      "2065\n",
      "2100\n",
      "2135\n",
      "2170\n",
      "2205\n",
      "2240\n",
      "2275\n",
      "2310\n",
      "2345\n",
      "2380\n",
      "2415\n",
      "2450\n",
      "2485\n",
      "2520\n",
      "2555\n",
      "2590\n",
      "2625\n",
      "2660\n",
      "2695\n"
     ]
    }
   ],
   "source": [
    "number_range = range(1200, 2701)\n",
    "for n in number_range:\n",
    "    if (n % 7 == 0) and (n % 5==0):\n",
    "        print(n)\n"
   ]
  },
  {
   "cell_type": "markdown",
   "id": "83ec4846",
   "metadata": {
    "ExecuteTime": {
     "end_time": "2023-02-16T16:28:06.826641Z",
     "start_time": "2023-02-16T16:28:06.822293Z"
    }
   },
   "source": [
    "4.Напишіть функцію, яка для заданого цілого числа виводить на екран наступну фігуру. Підказка - тут треба використати вкладені цикли for. Наприклад, для `n=5` фігура матиме наступний вигляд:\n",
    "\n",
    "```\n",
    "* \n",
    "* * \n",
    "* * * \n",
    "* * * * \n",
    "* * * * * \n",
    "* * * * \n",
    "* * * \n",
    "* * \n",
    "*\n",
    "```\n",
    "\n",
    "Запустіть фукнцію для значень n: 3, 5, 10."
   ]
  },
  {
   "cell_type": "code",
   "execution_count": 27,
   "id": "0bd87693",
   "metadata": {},
   "outputs": [
    {
     "name": "stdout",
     "output_type": "stream",
     "text": [
      "* \n",
      "* * \n",
      "* * * \n",
      "* * \n",
      "* \n",
      "* \n",
      "* * \n",
      "* * * \n",
      "* * * * \n",
      "* * * * * \n",
      "* * * * \n",
      "* * * \n",
      "* * \n",
      "* \n",
      "* \n",
      "* * \n",
      "* * * \n",
      "* * * * \n",
      "* * * * * \n",
      "* * * * * * \n",
      "* * * * * * * \n",
      "* * * * * * * * \n",
      "* * * * * * * * * \n",
      "* * * * * * * * * * \n",
      "* * * * * * * * * \n",
      "* * * * * * * * \n",
      "* * * * * * * \n",
      "* * * * * * \n",
      "* * * * * \n",
      "* * * * \n",
      "* * * \n",
      "* * \n",
      "* \n"
     ]
    }
   ],
   "source": [
    "def create_triangle(n):\n",
    "    for i in range(n):\n",
    "        print('* ' *(i+1))\n",
    "    for i in range(n-1):\n",
    "        print('* ' *(n-i-1))\n",
    "create_triangle(3)\n",
    "create_triangle(5)\n",
    "create_triangle(10)"
   ]
  },
  {
   "cell_type": "markdown",
   "id": "ce6f1afc",
   "metadata": {},
   "source": [
    "5.Напишіть функцію, яка вертає кількість парних та непарних чисел у наданому масиві. Функція має вертати два числа, а після функції створіть повідомлення, яке прописує, скільки було парних та непарних чисел у масиві. \n",
    "Приклад: для наступного входу\n",
    "```\n",
    "numbers = (1, 2, 11, 12, 13, 22, 27, 29) \n",
    "```\n",
    "Функція має повернути результат: `3, 5`.\n",
    "І далі Вам необхідно сформувати повідомлення, яке виведе наступне, використовуючи результат функції:\n",
    "```\n",
    "Кількість парних чисел : 3\n",
    "Кількість непарних : 5\n",
    "```\n",
    "Запустіть алгоритм функція+друк повідомлення для трьох наведених списків. Найзручніше це зробити, пройшовши по спискам у циклі."
   ]
  },
  {
   "cell_type": "code",
   "execution_count": 14,
   "id": "42c3fd1e",
   "metadata": {},
   "outputs": [],
   "source": [
    "numbers = [1, 2, 11, 12, 13, 22, 27, 29]\n",
    "def numbers_check(numbers):\n",
    "    even = 0\n",
    "    odd = 0\n",
    "    for number in numbers:\n",
    "        if number % 2 == 0:\n",
    "            even +=1\n",
    "        else:\n",
    "            odd +=1\n",
    "    print(\"Кількість парних чисел : {} \\nКількість непарних чисел :  {} \".format(even, odd))"
   ]
  },
  {
   "cell_type": "code",
   "execution_count": 16,
   "id": "ca9634e0",
   "metadata": {
    "ExecuteTime": {
     "end_time": "2023-02-16T17:12:55.787310Z",
     "start_time": "2023-02-16T17:12:55.779497Z"
    }
   },
   "outputs": [
    {
     "name": "stdout",
     "output_type": "stream",
     "text": [
      "Кількість парних чисел : 3 \n",
      "Кількість непарних чисел :  5 \n",
      "Кількість парних чисел : 3 \n",
      "Кількість непарних чисел :  3 \n",
      "Кількість парних чисел : 5 \n",
      "Кількість непарних чисел :  1 \n"
     ]
    }
   ],
   "source": [
    "numbers_1 = {1, 2, 11, 12, 13, 22, 27, 29}\n",
    "numbers_2 = {1, 22, 412, 312, 73, 3421}\n",
    "numbers_3 = {12, 11, 94, 722, 0, 452}\n",
    "numbers_check(numbers_1)\n",
    "numbers_check(numbers_2)\n",
    "numbers_check(numbers_3)"
   ]
  },
  {
   "cell_type": "markdown",
   "id": "dad0c565",
   "metadata": {
    "ExecuteTime": {
     "end_time": "2023-02-16T16:55:03.692657Z",
     "start_time": "2023-02-16T16:55:03.646268Z"
    }
   },
   "source": [
    "6.Напишіть функцію, яка приймає на вхід список з назвами чогось та формує і виводить на екран повідомлення, у якому є всі елементи списку, а перед останнім елементом вставлено слово `and` (приклад - далі). Функція має працювати з будь-якими списками, довжина яких є більшою або рівною 2. Наприклад, для списку \n",
    "```\n",
    "cities = ['Budapest', 'Rome', 'Istanbul', 'Sydney', 'Kyiv']\n",
    "```\n",
    "функція має виводити на екран фразу:\n",
    "```\n",
    "'Budapest, Rome, Istanbul, Sydney and Kyiv'\n",
    "``` \n",
    "Запустіть функцію на списках наведених нижче. Для останнього списку має виводитись помилка (exception) або повідомлення про те, що довжина списку має бути як мінімум 2."
   ]
  },
  {
   "cell_type": "code",
   "execution_count": 20,
   "id": "f1f6626a",
   "metadata": {},
   "outputs": [],
   "source": [
    "def add_and(lst):\n",
    "    if len(lst) == 2:\n",
    "        return lst[0] + ' and ' + lst[1]\n",
    "    elif len(lst) > 2:\n",
    "        return ', '.join(lst[:-1]) + ' and ' + lst[-1]\n",
    "    else:\n",
    "        return \"Довжина списку має бути від 2 елементів\""
   ]
  },
  {
   "cell_type": "code",
   "execution_count": 21,
   "id": "530c7eb0",
   "metadata": {
    "ExecuteTime": {
     "end_time": "2023-02-16T17:04:38.117972Z",
     "start_time": "2023-02-16T17:04:38.112979Z"
    }
   },
   "outputs": [],
   "source": [
    "\n",
    "list1 = ['Budapest', 'Rome', 'Istanbul', 'Sydney', 'Kyiv']\n",
    "list2 = ['USA', 'UK', 'Ukraine']\n",
    "list3 = ['apples', 'oranges']\n",
    "list4 = ['Titan']"
   ]
  },
  {
   "cell_type": "code",
   "execution_count": 22,
   "id": "e376d538",
   "metadata": {},
   "outputs": [
    {
     "name": "stdout",
     "output_type": "stream",
     "text": [
      "Budapest, Rome, Istanbul, Sydney and Kyiv\n",
      "USA, UK and Ukraine\n",
      "apples and oranges\n",
      "Довжина списку має бути від 2 елементів\n"
     ]
    }
   ],
   "source": [
    "print(add_and(list1))\n",
    "print(add_and(list2))\n",
    "print(add_and(list3))\n",
    "print(add_and(list4))"
   ]
  },
  {
   "cell_type": "markdown",
   "id": "5093dbef",
   "metadata": {},
   "source": [
    "7.Уявіть, що Ви створюєте пригодницьку гру і використовуєте для зберігання предметів гравця словник, у якому ключі - це назви предметів, значення - кількість одиниць кожної із речей. Наприклад, словник може виглядати так: things = {'ключ': 3, 'булава': 1, 'монета': 24, 'ніж': 1, 'горішки': 10, 'бронежелет': 0}. Створіть фукнцію, яка виводить повідомлення про усі речі гравця у такому вигляді:\n",
    "\n",
    "```\n",
    "У гравця є:\n",
    "3 ключ\n",
    "1 булава\n",
    "24 монета\n",
    "1 ніж\n",
    "10 горішки\n",
    "0 бронежелет\n",
    "Загальна кількість речей: 39\n",
    "```\n",
    "\n",
    "Викличіть фукнцію для наступних гравців:"
   ]
  },
  {
   "cell_type": "code",
   "execution_count": 6,
   "id": "f77ec586",
   "metadata": {
    "ExecuteTime": {
     "end_time": "2023-02-16T17:29:01.280430Z",
     "start_time": "2023-02-16T17:29:01.236841Z"
    }
   },
   "outputs": [],
   "source": [
    "player_1 = {'ключ': 3, 'булава': 1, 'монета': 24, 'ніж': 1, 'горішки': 10, 'бронежелет': 0}\n",
    "player_2 = {'ключ': 0, 'булава': 2, 'монета': 4, 'ніж': 3, 'горішки': 4, 'бронежелет': 1}\n",
    "player_3 = {'ключ': 0, 'булава': 0, 'монета': 30, 'ніж': 0, 'горішки': 2, 'бронежелет': 2}"
   ]
  },
  {
   "cell_type": "code",
   "execution_count": 4,
   "id": "94d669f9",
   "metadata": {},
   "outputs": [],
   "source": [
    "def game (player):\n",
    "    print(\"У гравця є:\")\n",
    "    things = 0\n",
    "    for item, quantity in player.items():\n",
    "        print(quantity, item)\n",
    "        things += quantity\n",
    "    print(\"Загальна кількість речей:\", things)\n"
   ]
  },
  {
   "cell_type": "code",
   "execution_count": 9,
   "id": "49a9ff44",
   "metadata": {},
   "outputs": [
    {
     "name": "stdout",
     "output_type": "stream",
     "text": [
      "Гравець 1\n",
      "У гравця є:\n",
      "3 ключ\n",
      "1 булава\n",
      "24 монета\n",
      "1 ніж\n",
      "10 горішки\n",
      "0 бронежелет\n",
      "Загальна кількість речей: 39\n",
      "Гравець 2\n",
      "У гравця є:\n",
      "0 ключ\n",
      "2 булава\n",
      "4 монета\n",
      "3 ніж\n",
      "4 горішки\n",
      "1 бронежелет\n",
      "Загальна кількість речей: 14\n",
      "Гравець 3\n",
      "У гравця є:\n",
      "0 ключ\n",
      "0 булава\n",
      "30 монета\n",
      "0 ніж\n",
      "2 горішки\n",
      "2 бронежелет\n",
      "Загальна кількість речей: 34\n"
     ]
    }
   ],
   "source": [
    "print (\"Гравець 1\")\n",
    "game (player_1)\n",
    "print (\"Гравець 2\")\n",
    "game (player_2)\n",
    "print (\"Гравець 3\")\n",
    "game (player_3)"
   ]
  },
  {
   "cell_type": "code",
   "execution_count": null,
   "id": "ae1b47c6",
   "metadata": {},
   "outputs": [],
   "source": []
  }
 ],
 "metadata": {
  "kernelspec": {
   "display_name": "Python 3 (ipykernel)",
   "language": "python",
   "name": "python3"
  },
  "language_info": {
   "codemirror_mode": {
    "name": "ipython",
    "version": 3
   },
   "file_extension": ".py",
   "mimetype": "text/x-python",
   "name": "python",
   "nbconvert_exporter": "python",
   "pygments_lexer": "ipython3",
   "version": "3.9.16"
  },
  "toc": {
   "base_numbering": 1,
   "nav_menu": {},
   "number_sections": true,
   "sideBar": true,
   "skip_h1_title": false,
   "title_cell": "Table of Contents",
   "title_sidebar": "Contents",
   "toc_cell": false,
   "toc_position": {},
   "toc_section_display": true,
   "toc_window_display": false
  }
 },
 "nbformat": 4,
 "nbformat_minor": 5
}
