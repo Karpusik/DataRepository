{
 "cells": [
  {
   "cell_type": "markdown",
   "id": "08f1c51f",
   "metadata": {
    "pycharm": {
     "name": "#%% md\n"
    }
   },
   "source": [
    "# Домашнє завдання до теми \"Python Basics\"\n",
    "В цьому ДЗ важливою умовою виконання завдань є те, що ми не імпортуємо жодних бібліотек, а робимо все на чистому Python, використовуючи лише базовий функціонал. Це необхідно аби відпрацювати роботу з базовими типами даних. А використовувати бібліотеки ми ще навчимось далі :)"
   ]
  },
  {
   "cell_type": "markdown",
   "id": "676db6ee",
   "metadata": {
    "ExecuteTime": {
     "end_time": "2022-10-15T22:38:58.278123Z",
     "start_time": "2022-10-15T22:38:58.274895Z"
    },
    "pycharm": {
     "name": "#%% md\n"
    }
   },
   "source": [
    "# Робота з рядками"
   ]
  },
  {
   "cell_type": "markdown",
   "id": "60423850",
   "metadata": {
    "pycharm": {
     "name": "#%% md\n"
    }
   },
   "source": [
    "1.Запишіть у змінну `name` ваше імʼя."
   ]
  },
  {
   "cell_type": "code",
   "execution_count": 3,
   "id": "473006f4",
   "metadata": {
    "pycharm": {
     "name": "#%%\n"
    }
   },
   "outputs": [],
   "source": [
    "name = \"Valeriia\""
   ]
  },
  {
   "cell_type": "markdown",
   "id": "4b3acd9d",
   "metadata": {
    "pycharm": {
     "name": "#%% md\n"
    }
   },
   "source": [
    "2.Запишіть у змінну `surname` ваше прізвище."
   ]
  },
  {
   "cell_type": "code",
   "execution_count": 6,
   "id": "c5defe1b",
   "metadata": {
    "pycharm": {
     "name": "#%%\n"
    }
   },
   "outputs": [],
   "source": [
    "surname = \"Karpova\""
   ]
  },
  {
   "cell_type": "markdown",
   "id": "ab162f8e",
   "metadata": {
    "pycharm": {
     "name": "#%% md\n"
    }
   },
   "source": [
    "3.Сконкатенуйте імʼя та прізвище в одну фразу через пробіл. Запишіть результат у нову змінну `name_surname` та виведіть результат:"
   ]
  },
  {
   "cell_type": "code",
   "execution_count": 11,
   "id": "522d3253",
   "metadata": {
    "pycharm": {
     "name": "#%%\n"
    }
   },
   "outputs": [
    {
     "name": "stdout",
     "output_type": "stream",
     "text": [
      "Valeriia Karpova\n"
     ]
    }
   ],
   "source": [
    "name_surname = (name + ' ' + surname)\n",
    "print(name_surname)"
   ]
  },
  {
   "cell_type": "markdown",
   "id": "77e679dd",
   "metadata": {
    "pycharm": {
     "name": "#%% md\n"
    }
   },
   "source": [
    "Очікувана відповідь (тільки з вашими даними): 'Hanna Pylieva' "
   ]
  },
  {
   "cell_type": "markdown",
   "id": "e68adcf7",
   "metadata": {
    "pycharm": {
     "name": "#%% md\n"
    }
   },
   "source": [
    "4.Зробіть усі літери змінної `name_surname` заглавними використовуючи вбудовану функцію Python для рядків:"
   ]
  },
  {
   "cell_type": "code",
   "execution_count": 13,
   "id": "1047cda3",
   "metadata": {
    "pycharm": {
     "name": "#%%\n"
    }
   },
   "outputs": [
    {
     "data": {
      "text/plain": [
       "'VALERIIA KARPOVA'"
      ]
     },
     "execution_count": 13,
     "metadata": {},
     "output_type": "execute_result"
    }
   ],
   "source": [
    "name_surname.upper()"
   ]
  },
  {
   "cell_type": "markdown",
   "id": "20a20420",
   "metadata": {
    "pycharm": {
     "name": "#%% md\n"
    }
   },
   "source": [
    "Очікувана відповідь (тільки з вашими даними): 'HANNA PYLIEVA'"
   ]
  },
  {
   "cell_type": "markdown",
   "id": "e7e1c7ae",
   "metadata": {
    "pycharm": {
     "name": "#%% md\n"
    }
   },
   "source": [
    "5.Виведіть третю літеру вашого `name_surname`. Тут уважно, треба саме третя літера. Згадайте, з якого значення починається індексування значень в Python."
   ]
  },
  {
   "cell_type": "code",
   "execution_count": 14,
   "id": "191baf85",
   "metadata": {
    "pycharm": {
     "name": "#%%\n"
    }
   },
   "outputs": [
    {
     "data": {
      "text/plain": [
       "'l'"
      ]
     },
     "execution_count": 14,
     "metadata": {},
     "output_type": "execute_result"
    }
   ],
   "source": [
    "name_surname[2]"
   ]
  },
  {
   "cell_type": "markdown",
   "id": "181c489d",
   "metadata": {
    "pycharm": {
     "name": "#%% md\n"
    }
   },
   "source": [
    "Очікувана відповідь (тільки з вашими даними): 'n'"
   ]
  },
  {
   "cell_type": "markdown",
   "id": "1f3cc1a7",
   "metadata": {
    "pycharm": {
     "name": "#%% md\n"
    }
   },
   "source": [
    "6.Виведіть першу та останню літеру вашого прізвища."
   ]
  },
  {
   "cell_type": "code",
   "execution_count": 25,
   "id": "1a4ffd8b",
   "metadata": {
    "pycharm": {
     "name": "#%%\n"
    }
   },
   "outputs": [
    {
     "name": "stdout",
     "output_type": "stream",
     "text": [
      "('V', 'a')\n"
     ]
    }
   ],
   "source": [
    "answer = name_surname[0], name_surname[-1]\n",
    "print (answer)"
   ]
  },
  {
   "cell_type": "markdown",
   "id": "df1b4a52",
   "metadata": {
    "pycharm": {
     "name": "#%% md\n"
    }
   },
   "source": [
    "Очікувана відповідь (тільки з вашими даними): ('P', 'a')"
   ]
  },
  {
   "cell_type": "markdown",
   "id": "0ad4f21f",
   "metadata": {
    "pycharm": {
     "name": "#%% md\n"
    }
   },
   "source": [
    "7.Виведіть довжину вашого прізвища."
   ]
  },
  {
   "cell_type": "code",
   "execution_count": 28,
   "id": "8aadf013",
   "metadata": {
    "pycharm": {
     "name": "#%%\n"
    }
   },
   "outputs": [
    {
     "data": {
      "text/plain": [
       "7"
      ]
     },
     "execution_count": 28,
     "metadata": {},
     "output_type": "execute_result"
    }
   ],
   "source": [
    "len(surname)"
   ]
  },
  {
   "cell_type": "markdown",
   "id": "ec1a8d38",
   "metadata": {
    "pycharm": {
     "name": "#%% md\n"
    }
   },
   "source": [
    "Очікувана відповідь (тільки з вашими даними): 7"
   ]
  },
  {
   "cell_type": "markdown",
   "id": "fc4ee632",
   "metadata": {
    "pycharm": {
     "name": "#%% md\n"
    }
   },
   "source": [
    "8.Виведіть кількість літер `a` у столиці Мадагаскару `Antananarivo`. Важливо врахувати всі літери, як великі, так і маленькі."
   ]
  },
  {
   "cell_type": "code",
   "execution_count": 42,
   "id": "4c83c237",
   "metadata": {
    "pycharm": {
     "name": "#%%\n"
    }
   },
   "outputs": [
    {
     "data": {
      "text/plain": [
       "4"
      ]
     },
     "execution_count": 42,
     "metadata": {},
     "output_type": "execute_result"
    }
   ],
   "source": [
    "city = 'Antananarivo'\n",
    "city1 = city.lower()\n",
    "city1.count('a')"
   ]
  },
  {
   "cell_type": "markdown",
   "id": "3b822954",
   "metadata": {
    "pycharm": {
     "name": "#%% md\n"
    }
   },
   "source": [
    "Очікувана відповідь: 4"
   ]
  },
  {
   "cell_type": "markdown",
   "id": "0f3e7772",
   "metadata": {
    "pycharm": {
     "name": "#%% md\n"
    }
   },
   "source": [
    "# Робота з числами та операторами"
   ]
  },
  {
   "cell_type": "markdown",
   "id": "0be48f79",
   "metadata": {
    "pycharm": {
     "name": "#%% md\n"
    }
   },
   "source": [
    "9.Створіть змінні a, b, c та d цілочисельного типу, задайде їм значення відповідно 1, 2, 3, 4, та обчисліть з допомогою Python наступний вираз:  $$ \\frac{(a+b) * c}{d} $$"
   ]
  },
  {
   "cell_type": "code",
   "execution_count": 45,
   "id": "9d7e1690",
   "metadata": {
    "pycharm": {
     "name": "#%%\n"
    }
   },
   "outputs": [
    {
     "name": "stdout",
     "output_type": "stream",
     "text": [
      "2.25\n"
     ]
    }
   ],
   "source": [
    "a = 1\n",
    "b = 2\n",
    "c = 3\n",
    "d= 4\n",
    "answer = ((a+b)*c)/d\n",
    "print(answer)"
   ]
  },
  {
   "cell_type": "markdown",
   "id": "b4183f4f",
   "metadata": {
    "pycharm": {
     "name": "#%% md\n"
    }
   },
   "source": [
    "Очікувана відповідь: 2.25"
   ]
  },
  {
   "cell_type": "markdown",
   "id": "23e8d8f0",
   "metadata": {
    "pycharm": {
     "name": "#%% md\n"
    }
   },
   "source": [
    "10.На змінних, створених в попердньому завданні, обчисліть наступний вираз з допомогою Python: $$ (a^b + c^d)^2 $$"
   ]
  },
  {
   "cell_type": "code",
   "execution_count": 47,
   "id": "2b3cf9ae",
   "metadata": {
    "pycharm": {
     "name": "#%%\n"
    }
   },
   "outputs": [
    {
     "name": "stdout",
     "output_type": "stream",
     "text": [
      "6724\n"
     ]
    }
   ],
   "source": [
    "answer1 = (a**b + c**d)**2\n",
    "print(answer1)"
   ]
  },
  {
   "cell_type": "markdown",
   "id": "2d5f632b",
   "metadata": {
    "pycharm": {
     "name": "#%% md\n"
    }
   },
   "source": [
    "Очікувана відповідь: 6724"
   ]
  },
  {
   "cell_type": "markdown",
   "id": "8365109c",
   "metadata": {
    "pycharm": {
     "name": "#%% md\n"
    }
   },
   "source": [
    "# Робота зі колекціями"
   ]
  },
  {
   "cell_type": "markdown",
   "id": "efd4a344",
   "metadata": {
    "pycharm": {
     "name": "#%% md\n"
    }
   },
   "source": [
    "У нас є наступний список:"
   ]
  },
  {
   "cell_type": "code",
   "execution_count": 5,
   "id": "33f9a114",
   "metadata": {
    "pycharm": {
     "name": "#%%\n"
    }
   },
   "outputs": [],
   "source": [
    "l = [\n",
    "    78, 12, 14, 27, 47, 28, 51, 46, 94, 37, 42, 20, 52, 33, 11, 11, 51,\n",
    "    20, 81, 54, 86, 51, 38, 42, 49, 99, 76, 17,  9, 23, 97, 29, 29, 63,\n",
    "    40, 11, 31, 76, 15, 21, 29, 75, 35,  2, 10, 71, 17, 10, 13,  7, 44,\n",
    "    12, 19, 61, 13, 25, 62, 46, 10, 44, 75, 57, 20, 57,  3, 44, 16, 28,\n",
    "    79, 57, 62, 70, 95,  8, 47, 82, 80, 45, 36, 44, 79, 95, 73, 42, 29,\n",
    "    83, 80, 66, 56,  8, 73,  5, 99, 65, 65, 98, 17, 36, 16, 60\n",
    "]"
   ]
  },
  {
   "cell_type": "markdown",
   "id": "77d55ecf",
   "metadata": {
    "pycharm": {
     "name": "#%% md\n"
    }
   },
   "source": [
    "Будемо з ним працювати в наступних завданнях."
   ]
  },
  {
   "cell_type": "markdown",
   "id": "7a9d114b",
   "metadata": {
    "pycharm": {
     "name": "#%% md\n"
    }
   },
   "source": [
    "11.Виведіть 5 перших елементів списку"
   ]
  },
  {
   "cell_type": "code",
   "execution_count": 56,
   "id": "1a6e26e9",
   "metadata": {
    "pycharm": {
     "name": "#%%\n"
    }
   },
   "outputs": [
    {
     "data": {
      "text/plain": [
       "[78, 12, 14, 27, 47]"
      ]
     },
     "execution_count": 56,
     "metadata": {},
     "output_type": "execute_result"
    }
   ],
   "source": [
    "l[0:5]"
   ]
  },
  {
   "cell_type": "markdown",
   "id": "0c995ae4",
   "metadata": {
    "pycharm": {
     "name": "#%% md\n"
    }
   },
   "source": [
    "Очікувана відповідь: [78, 12, 14, 27, 47]"
   ]
  },
  {
   "cell_type": "markdown",
   "id": "58a98ef0",
   "metadata": {
    "pycharm": {
     "name": "#%% md\n"
    }
   },
   "source": [
    "12.Виведіть максимальний і мінімальний елемент у списку"
   ]
  },
  {
   "cell_type": "code",
   "execution_count": 60,
   "id": "008f459c",
   "metadata": {
    "pycharm": {
     "name": "#%%\n"
    }
   },
   "outputs": [
    {
     "name": "stdout",
     "output_type": "stream",
     "text": [
      "99\n",
      "2\n"
     ]
    }
   ],
   "source": [
    "print(max(l))\n",
    "print(min(l))"
   ]
  },
  {
   "cell_type": "markdown",
   "id": "c19c1cf7",
   "metadata": {
    "pycharm": {
     "name": "#%% md\n"
    }
   },
   "source": [
    "Очікувана відповідь: \n",
    "\n",
    "```\n",
    "Max element  99\n",
    "Max element  2\n",
    "```"
   ]
  },
  {
   "cell_type": "markdown",
   "id": "eef1aae7",
   "metadata": {
    "pycharm": {
     "name": "#%% md\n"
    }
   },
   "source": [
    "13.Чи є в списку елементи, які повторюються? Перевірте це програмно і з допомогою інструкцій `if ... else` виведіть на екран відповідь \"Так, є елементи, які повторюються\", або \"Ні, всі елементи унікальні\".\n",
    "Важливо це зробити без використання імпортів будь-яких бібліотек, на чистому Python так би мовити."
   ]
  },
  {
   "cell_type": "code",
   "execution_count": 62,
   "id": "766170f3",
   "metadata": {
    "pycharm": {
     "name": "#%%\n"
    }
   },
   "outputs": [
    {
     "name": "stdout",
     "output_type": "stream",
     "text": [
      "Так, є елементи, які повторюються\n"
     ]
    }
   ],
   "source": [
    "if len(set(l)) == len(l):\n",
    "    print(\"Ні, всі елементи унікальні\")\n",
    "else:\n",
    "    print(\"Так, є елементи, які повторюються\")"
   ]
  },
  {
   "cell_type": "markdown",
   "id": "cee3dda8",
   "metadata": {
    "pycharm": {
     "name": "#%% md\n"
    }
   },
   "source": [
    "14.Для кожного унікального елементу списку `l` знайдіть, скільки разів він повторюється та запишіть результат у змінну `n_repeats`. Виведіть `n_repeats` на екран."
   ]
  },
  {
   "cell_type": "code",
   "execution_count": 80,
   "id": "ef0294ef",
   "metadata": {
    "pycharm": {
     "name": "#%%\n"
    }
   },
   "outputs": [
    {
     "name": "stdout",
     "output_type": "stream",
     "text": [
      "[(2, 1), (3, 1), (5, 1), (7, 1), (8, 2), (9, 1), (10, 3), (11, 3), (12, 2), (13, 2), (14, 1), (15, 1), (16, 2), (17, 3), (19, 1), (20, 3), (21, 1), (23, 1), (25, 1), (27, 1), (28, 2), (29, 4), (31, 1), (33, 1), (35, 1), (36, 2), (37, 1), (38, 1), (40, 1), (42, 3), (44, 4), (45, 1), (46, 2), (47, 2), (49, 1), (51, 3), (52, 1), (54, 1), (56, 1), (57, 3), (60, 1), (61, 1), (62, 2), (63, 1), (65, 2), (66, 1), (70, 1), (71, 1), (73, 2), (75, 2), (76, 2), (78, 1), (79, 2), (80, 2), (81, 1), (82, 1), (83, 1), (86, 1), (94, 1), (95, 2), (97, 1), (98, 1), (99, 2)]\n"
     ]
    }
   ],
   "source": [
    "#перший варіант коду був явно менш оптимальним, ось він:\n",
    "\n",
    "#resoult = dict()\n",
    "#for item in l:\n",
    "    #n_repeats = 0\n",
    "    #for x in l:\n",
    "        #if x == item:\n",
    "            #n_repeats += 1\n",
    "    #resoult[item] = n_repeats\n",
    "#print(resoult)\n",
    "\n",
    "\n",
    "resoult = dict()\n",
    "for item in l:\n",
    "    n_repeats = l.count(item)\n",
    "    resoult[item] = n_repeats\n",
    "#print(resoult)\n",
    "print(sorted(resoult.items())) #сортування за зростанням\n"
   ]
  },
  {
   "cell_type": "markdown",
   "id": "9858eefd",
   "metadata": {
    "pycharm": {
     "name": "#%% md\n"
    }
   },
   "source": [
    "Очікуваний результат (три крапки - для скорочення, у вас буде виведений повний набір унікальних елементів): \n",
    "```\n",
    "{2: 1,\n",
    " 3: 1,\n",
    " 5: 1,\n",
    "    ...\n",
    " 97: 1,\n",
    " 98: 1,\n",
    " 99: 2}\n",
    "```"
   ]
  },
  {
   "cell_type": "markdown",
   "id": "10c98ea7",
   "metadata": {
    "pycharm": {
     "name": "#%% md\n"
    }
   },
   "source": [
    "15.Знайдіть три найменші унікальні елементи в списку `l`."
   ]
  },
  {
   "cell_type": "code",
   "execution_count": 94,
   "id": "8cabdfc7",
   "metadata": {
    "pycharm": {
     "name": "#%%\n"
    }
   },
   "outputs": [
    {
     "name": "stdout",
     "output_type": "stream",
     "text": [
      "[2, 3, 5]\n"
     ]
    }
   ],
   "source": [
    "elements1 = set(l)\n",
    "elements2 = list(elements1)\n",
    "print (elements2[0:3])\n"
   ]
  },
  {
   "cell_type": "markdown",
   "id": "672d2981",
   "metadata": {
    "pycharm": {
     "name": "#%% md\n"
    }
   },
   "source": [
    "Очікувана відповідь: [2, 3, 5]\n"
   ]
  },
  {
   "cell_type": "markdown",
   "id": "f7653e42",
   "metadata": {
    "pycharm": {
     "name": "#%% md\n"
    }
   },
   "source": [
    "16.Використовуючи `n_repeats` скажіть, скільки разів повторюється кожен з трьох найменших елементів в списку."
   ]
  },
  {
   "cell_type": "code",
   "execution_count": 102,
   "id": "05ec5353",
   "metadata": {
    "pycharm": {
     "name": "#%%\n"
    }
   },
   "outputs": [
    {
     "name": "stdout",
     "output_type": "stream",
     "text": [
      "2 : 1\n",
      "3 : 1\n",
      "5 : 1\n"
     ]
    }
   ],
   "source": [
    "#тут розумію, що elements2 треба винести як змінну і звертатися до неї, але тоді код не працює. Тому вдалася до такого рішення, але буду вдячна за підказку\n",
    "#min_el = elements2[0:3]\n",
    "a = dict ()\n",
    "a = {elements2[0]: n_repeats, elements2[1]: n_repeats , elements2[2]: n_repeats }\n",
    "for key, value in a.items():\n",
    "    print(key, \":\", value)\n",
    "\n",
    "\n"
   ]
  },
  {
   "cell_type": "markdown",
   "id": "dfcfb47d",
   "metadata": {
    "pycharm": {
     "name": "#%% md\n"
    }
   },
   "source": [
    "Очікувана відповідь:  {2: 1, 3: 1, 5: 1}"
   ]
  },
  {
   "cell_type": "markdown",
   "id": "4e43e698",
   "metadata": {
    "pycharm": {
     "name": "#%% md\n"
    }
   },
   "source": [
    "17.Створіть новий список `l2`, який містить кожен 11-й елемент списку `l`. Виведіть `l2` на екран.  \n",
    "Памʼятаємо, щоб наприклад, перший 11-и1 елемент списку має індекс 10."
   ]
  },
  {
   "cell_type": "code",
   "execution_count": 5,
   "id": "5b4c4729",
   "metadata": {
    "pycharm": {
     "name": "#%%\n"
    }
   },
   "outputs": [
    {
     "name": "stdout",
     "output_type": "stream",
     "text": [
      "[42, 51, 29, 2, 13, 44, 80, 66, 16]\n"
     ]
    }
   ],
   "source": [
    "l2=l[10::11]\n",
    "print(l2)"
   ]
  },
  {
   "cell_type": "markdown",
   "id": "0c734831",
   "metadata": {
    "ExecuteTime": {
     "end_time": "2023-01-20T20:10:37.303981Z",
     "start_time": "2023-01-20T20:10:37.275706Z"
    },
    "pycharm": {
     "name": "#%%\n"
    }
   },
   "source": [
    "Очікуваний результат: `[42, 51, 29, 2, 13, 44, 80, 66, 16]`"
   ]
  },
  {
   "cell_type": "markdown",
   "id": "fca24ff1",
   "metadata": {
    "pycharm": {
     "name": "#%% md\n"
    }
   },
   "source": [
    "18.Створіть новий список `l2_squared`, де кожен елемент списку `l2` є піднесеним до степіня 2. "
   ]
  },
  {
   "cell_type": "code",
   "execution_count": 59,
   "id": "26795c16",
   "metadata": {
    "pycharm": {
     "name": "#%%\n"
    }
   },
   "outputs": [
    {
     "name": "stdout",
     "output_type": "stream",
     "text": [
      "[1764, 2601, 841, 4, 169, 1936, 6400, 4356, 256]\n"
     ]
    }
   ],
   "source": [
    "l2_squared = [i**2 for i in l2]\n",
    "print(l2_squared)"
   ]
  },
  {
   "cell_type": "markdown",
   "id": "0dce0d8e",
   "metadata": {
    "pycharm": {
     "name": "#%% md\n"
    }
   },
   "source": [
    "Очікуваний результат: `[1764, 2601, 841, 4, 169, 1936, 6400, 4356, 256]`"
   ]
  },
  {
   "cell_type": "markdown",
   "id": "c267a553",
   "metadata": {
    "pycharm": {
     "name": "#%% md\n"
    }
   },
   "source": [
    "19.Знайдіть суму всіх елементів списку `l2` та виведіть її на екран."
   ]
  },
  {
   "cell_type": "code",
   "execution_count": 68,
   "id": "7f37b29f",
   "metadata": {
    "pycharm": {
     "name": "#%%\n"
    }
   },
   "outputs": [
    {
     "name": "stdout",
     "output_type": "stream",
     "text": [
      "343\n"
     ]
    }
   ],
   "source": [
    "print(sum(l2))"
   ]
  },
  {
   "cell_type": "markdown",
   "id": "b12acfc2",
   "metadata": {
    "pycharm": {
     "name": "#%% md\n"
    }
   },
   "source": [
    "20.Знайдіть середнє значення елементів списку `l2`, збережіть результат у змінну `l2_mean` та виведіть новостворену змінну та ії тип на екран."
   ]
  },
  {
   "cell_type": "code",
   "execution_count": 9,
   "id": "51fbb32b",
   "metadata": {
    "pycharm": {
     "name": "#%%\n"
    }
   },
   "outputs": [
    {
     "name": "stdout",
     "output_type": "stream",
     "text": [
      "38.111111111111114\n"
     ]
    },
    {
     "data": {
      "text/plain": [
       "float"
      ]
     },
     "execution_count": 9,
     "metadata": {},
     "output_type": "execute_result"
    }
   ],
   "source": [
    "l2_mean=sum(l2)/len(l2)\n",
    "print(l2_mean)\n",
    "type(l2_mean)"
   ]
  },
  {
   "cell_type": "markdown",
   "id": "079359aa",
   "metadata": {
    "pycharm": {
     "name": "#%% md\n"
    }
   },
   "source": [
    "21.Створіть новий список `l2_gt_mean`, за наступним правилом: \"якщо цей елемент спиcку `l2` є більше за `l2_mean`, то запишемо 1, інакше 0. Виведіть новий список на екран."
   ]
  },
  {
   "cell_type": "code",
   "execution_count": 15,
   "id": "6e69be6f",
   "metadata": {
    "pycharm": {
     "name": "#%%\n"
    }
   },
   "outputs": [
    {
     "name": "stdout",
     "output_type": "stream",
     "text": [
      "[1, 1, 0, 0, 0, 1, 1, 1, 0]\n"
     ]
    }
   ],
   "source": [
    "a=1\n",
    "b=0\n",
    "l2_gt_mean = []\n",
    "#i = 0\n",
    "#while i <= len(l2):\n",
    "for item in l2:\n",
    "    if item > l2_mean:\n",
    "        l2_gt_mean.append(a)\n",
    "    else:\n",
    "        l2_gt_mean.append(b)\n",
    "print(l2_gt_mean)\n"
   ]
  },
  {
   "cell_type": "markdown",
   "id": "3079f1e6",
   "metadata": {},
   "source": [
    "Очікуваний результат: `[1, 1, 0, 0, 0, 1, 1, 1, 0]`"
   ]
  },
  {
   "cell_type": "markdown",
   "id": "bb70f24a",
   "metadata": {
    "pycharm": {
     "name": "#%% md\n"
    }
   },
   "source": [
    "# Ураа!! Ви завершили перше домашнє завдання!!!  \n",
    "Аби його здати - залийте ноутбук у гітхаб репозиторій, який ви створили у перші дні навчання на курсі, та додайте посилання на файл, заповнишви форму https://forms.gle/EvxoiJiBTkuxFmhV7   \n",
    "Так тримати! 🚀🚀🚀\n"
   ]
  }
 ],
 "metadata": {
  "kernelspec": {
   "display_name": "Python 3 (ipykernel)",
   "language": "python",
   "name": "python3"
  },
  "language_info": {
   "codemirror_mode": {
    "name": "ipython",
    "version": 3
   },
   "file_extension": ".py",
   "mimetype": "text/x-python",
   "name": "python",
   "nbconvert_exporter": "python",
   "pygments_lexer": "ipython3",
   "version": "3.9.16"
  },
  "toc": {
   "base_numbering": 1,
   "nav_menu": {},
   "number_sections": true,
   "sideBar": true,
   "skip_h1_title": false,
   "title_cell": "Table of Contents",
   "title_sidebar": "Contents",
   "toc_cell": false,
   "toc_position": {},
   "toc_section_display": true,
   "toc_window_display": false
  }
 },
 "nbformat": 4,
 "nbformat_minor": 5
}
